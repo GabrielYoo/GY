{
 "cells": [
  {
   "cell_type": "markdown",
   "metadata": {
    "hidePrompt": true,
    "slideshow": {
     "slide_type": "slide"
    }
   },
   "source": [
    "# Gabriel (Daeyoung) Yoo - Python "
   ]
  },
  {
   "cell_type": "markdown",
   "metadata": {
    "hideCode": false,
    "hidePrompt": true,
    "slideshow": {
     "slide_type": "slide"
    }
   },
   "source": [
    "## Import Data"
   ]
  },
  {
   "cell_type": "code",
   "execution_count": 4,
   "metadata": {
    "hideCode": true,
    "hideOutput": true,
    "hidePrompt": true,
    "slideshow": {
     "slide_type": "slide"
    }
   },
   "outputs": [],
   "source": [
    "import pandas as pd\n",
    "import numpy as np\n",
    "import matplotlib.pyplot as plt\n",
    "import seaborn as sns\n",
    "import datetime as dt\n",
    "%matplotlib inline\n",
    "from pandas import ExcelWriter\n",
    "from pandas import ExcelFile\n",
    "from pandas import Series\n",
    "pd.options.display.float_format = '{:,}'.format\n",
    "from IPython.display import display, HTML\n",
    "writer = pd.ExcelWriter('GY_Report.xlsx', engine='xlsxwriter')\n",
    "pd.set_option('precision', 2)\n",
    "idx = pd.IndexSlice\n",
    "import matplotlib.image as mpimg\n",
    "from IPython.display import display, HTML"
   ]
  },
  {
   "cell_type": "code",
   "execution_count": null,
   "metadata": {
    "hideCode": true,
    "hideOutput": true,
    "hidePrompt": true
   },
   "outputs": [],
   "source": [
    "df2019 = pd.read_csv('19SS Data.txt',sep='\\\\t',engine='python',names=['Fineline Number','Prime Item Desc',\n",
    "                                                                                         'Vendor Stk Nbr','Color Desc','Size Desc',\n",
    "                                                                                         'Unit Cost','WM Week','POS Qty','Net Ship Qty',\n",
    "                                                                                         'Net Ship Retail','POS Sales','Sat Qty',\n",
    "                                                                                         'Sun Qty','Mon Qty','Tue Qty','Wed Qty','Thu Qty',\n",
    "                                                                                        'Fri Qty','Sat Sales','Sun Sales','Mon Sales',\n",
    "                                                                                        'Tue Sales','Wed Sales','Thu Sales','Fri Sales'],\n",
    "                  index_col=False)\n",
    "store2019 = pd.read_csv('19ss store data.txt',sep='\\\\t',engine='python',names=[\n",
    "    'POS Sales','Net Ship Qty','POS Qty','Fineline Number','Prime Item Desc','Unit Cost','Vendor Stk Nbr','Color Desc','Size Desc',\n",
    "        'MDSE Major Zone','Apparel Store Dept Size Class','Store-Dept Size Class','Store-Dept Sales Class','State','City','Sales Class','Store Nbr'],\n",
    "                        index_col=False)\n",
    "history = pd.read_csv('history F.txt',sep='\\\\t',engine='python',names=['WM Week','Fineline Number','Vendor Stk Nbr',\n",
    "            'Color Desc','Size Desc','POS Qty','POS Sales','Sat Sales','Sun Sales','Mon Sales','Tue Sales','Wed Sales','Thu Sales','Fri Sales','Sat Qty',\n",
    "                                                                                         'Sun Qty','Mon Qty','Tue Qty','Wed Qty','Thu Qty','Fri Qty'\n",
    "                                                                                          ,'Net Ship Qty'\n",
    "                                                                                           ],index_col=False)\n",
    "#dfzone2019 = pd.read_excel('WM Zone Sales and Net ship 2.xlsx', skiprows=38)\n",
    "\n",
    "print(\"Frist Data Rows and Columns\",df2019.shape)\n",
    "print(\"Second Data Total Rows and Columns\",store2019.shape)\n",
    "print(\"Thrid Data Total Rows and Columns\",history.shape)\n",
    "#print(\"Last Data Total Rows and Columns\", dfzone2019.shape)\n",
    "print(\"Total Data # is 11M Rows and 25 Colums\")"
   ]
  },
  {
   "cell_type": "code",
   "execution_count": null,
   "metadata": {
    "hideCode": true,
    "hideOutput": true,
    "hidePrompt": true
   },
   "outputs": [],
   "source": [
    "storedf = store2019.copy()\n",
    "col4 = ['Sat Sales', 'Sun Sales', 'Mon Sales', 'Tue Sales',\n",
    "       'Wed Sales', 'Thu Sales', 'Fri Sales', 'Sat Qty', 'Sun Qty', 'Mon Qty',\n",
    "       'Tue Qty', 'Wed Qty', 'Thu Qty', 'Fri Qty']\n",
    "\n",
    "classgroup = {1295:'SS Seasonal Men',2308:'SS Seasonal Acc',2316:'Acc',\n",
    "              5007:'SS Seasonal Women',5008:'SS Seasonal Women',5458:'Women',5459:'Women',5461:'Women',\n",
    "              5468:'Women',596:'Acc',597:'Acc',6013:'Men', 6024:'Women', 6101:'Men', 6106:'Men', 6126:'Men',\n",
    "              5469:'Women',5460:'Women',614:'Acc', 6210:'Acc', 6340:'Acc',65:'Men',6500:'Acc',66:'Men', 6670:'Women', \n",
    "             6671:'Women', 6691:'Women', 7001:'Acc'}\n",
    "\n",
    "subclass = {1295:'Swim Wear Men', 2308:'Swim Acc', 2316:'Small Leather', 5007:'Swim Wear Women', 5008:'Swim Wear Women', 5458:'Active Wear',\n",
    "            5459:'Coat', 5460:'Short', 5461:'Top', 5468:'Skirt', 5469:'Sweater',\n",
    "       596:'Heel',  597:'Sneaker', 6013:'Basic', 6024:'Jean', 6101:'Pants', 6106:'Coat', 6126:'Sweater',  614: 'Other Bag', 6210:'Boots', 6340:'Flat',   65:'Short',\n",
    "     6500:'Scarf',   66:'Suit', 6670:'Dress', 6671:'Jacket', 6691:'Pants', 7001:'Handbag'}\n",
    "\n",
    "cost = {597:2.58,596:1.80,2316:1.80,6340:1.60,614:1.60,65:1.67,66:1.67,6013:2.45,6126:2.45,6101:2.72,6106:2.72,6670:2.32,6024:2.32,5468:1.57,5459:1.48,\n",
    "        6691:2.32,6671:2.32,5469:1.57,5458:1.48,2308:2.84,1295:3.07,5007:2.78,5008:2.78,7001:2.58,6210:2.69,5460:1.48,5461:1.57,6500:2.63}\n",
    "\n",
    "size = {'2T':'6', '3T':'8', '4T':'10', '5T':'12', '0/3M':'00', '12M':'2', '18M':'4', '24M':'6', '3/6M':'0','6/9M':'1'}\n",
    "retailprice = {6670:4.48,6024:2.32,5468:3.48,5459:2.88,6691:4.48,6671:4.48,5469:3.48,5460:3.48,5460:2.88}\n",
    "\n",
    "\n",
    "for x in col4:\n",
    "    history[x] = history[x].astype(np.float64)\n",
    "\n",
    "history['WM Week'] = history['WM Week'].apply(str)\n",
    "history['Week'] = history['WM Week'].str[4:]\n",
    "history['Year'] = history['WM Week'].str[:4]\n",
    "history['Size Desc'] = history['Size Desc'].replace(size)\n",
    "history['Department'] = history['Fineline Number'].map(classgroup)\n",
    "history['Class'] = history['Fineline Number'].map(subclass)\n",
    "\n",
    "df2019['WM Week'] = df2019['WM Week'].apply(str)\n",
    "df2019['Week'] = df2019['WM Week'].str[4:]\n",
    "df2019['Year'] = df2019['WM Week'].str[:4]\n",
    "df2019['Size Desc'] = df2019['Size Desc'].replace(size)\n",
    "df2019['Department'] = df2019['Fineline Number'].map(classgroup)\n",
    "df2019['Class'] = df2019['Fineline Number'].map(subclass)\n",
    "df2019['Unit Cost'] = df2019['Fineline Number'].map(cost)\n",
    "\n",
    "#storedf['WM Week'] = storedf['WM Week'].apply(str)\n",
    "#storedf['Week'] = storedf['WM Week'].str[4:]\n",
    "#storedf['Year'] = storedf['WM Week'].str[:4]\n",
    "storedf['Department'] = storedf['Fineline Number'].map(classgroup)\n",
    "storedf['Class'] = storedf['Fineline Number'].map(subclass)"
   ]
  },
  {
   "cell_type": "code",
   "execution_count": null,
   "metadata": {
    "hideCode": true,
    "hideOutput": true,
    "hidePrompt": true
   },
   "outputs": [],
   "source": [
    "df2019 = df2019.drop(df2019[df2019['WM Week']=='nan'].index)\n",
    "col = ['Sat Qty','Sat %','Sun MV 4YR','Sun Qty','Sun %','Mon MV 4YR','Mon Qty','Mon %','Tue MV 4YR','Tue Qty','Tue %',\n",
    "       'Wed MV 4YR','Wed Qty','Wed %','Thu MV 4YR','Thu Qty','Thu %','Fri MV 4YR','Fri Qty','Fri %','Sat MV 4YR','Total Qty']\n",
    "col3 = ['2014','2014 Var LM', '2015','2015 Var LY','2015 Var LM', '2016','2016 Var LY','2016 Var LM', '2017','2017 Var LY','2017 Var LM', '2018','2018 Var LY','2018 Var LM', '2019','19 Var LY','19 Var LM']\n",
    "col5 = ['14 Var LM','15 Var LM','15 Var LY','16 Var LM','16 Var LY','17 Var LM','17 Var LY','18 Var LM','18 Var LY','19 Var LM','19 Var LY']\n",
    "col13 = ['2014', '14 Var LW', '2015','15 Var LY','15 Var LW','2016','16 Var LY','16 Var LW','2017','17 Var LY','17 Var LW', '2018','18 Var LY','18 Var LW','2019','19 Var LY','19 Var LW']\n",
    "col14 = ['14 Var LW','15 Var LY','15 Var LW','16 Var LY','16 Var LW','17 Var LY','17 Var LW','18 Var LY','18 Var LW','19 Var LY','19 Var LW'] \n",
    "conv = {'01.0':'Feb', '02.0':'Feb', '03.0':'Feb', '04.0':'Feb', '05.0':'Mar', '06.0':'Mar', '07.0':'Mar', '08.0':'Mar', '09.0':'Mar', '10.0':'Apr', '11.0':'Apr',\n",
    "       '12.0':'Apr', '13.0':'Apr', '14.0':'May', '15.0':'May', '16.0':'May', '17.0':'May', '18.0':'Jun', '19.0':'Jun', '20.0':'Jun', '21.0':'Jun', '22.0':'Jun',\n",
    "       '23.0':'Jul', '24.0':'Jul', '25.0':'Jul', '26.0':'Jul', '27.0':'Aug', '28.0':'Aug', '29.0':'Aug', '30.0':'Aug', '31.0':'Sep', '32.0':'Sep', '33.0':'Sep',\n",
    "       '34.0':'Sep', '35.0':'Sep', '36.0':'Oct', '37.0':'Oct', '38.0':'Oct', '39.0':'Oct', '40.0':'Nov', '41.0':'Nov', '42.0':'Nov', '43.0':'Nov', '44.0':'Dec',\n",
    "       '45.0':'Dec', '46.0':'Dec', '47.0':'Dec', '48.0':'Dec', '49.0':'Jan', '50.0':'Jan', '51.0':'Jan', '52.0':'Jan'}\n",
    "col12 = ['14 Var LM','15 Var LM','15 Var LY','16 Var LM','16 Var LY','17 Var LM','17 Var LY','18 Var LM','18 Var LY','19 Var LM','19 Var LY']\n",
    "col11 = ['2019','19 Var LY','19 Var LM']\n",
    "\n",
    "history = history.round()\n",
    "history['Total Sales'] = history['Sat Sales'] + history['Sun Sales'] + history['Mon Sales']+ history['Tue Sales']+ history['Wed Sales']+ history['Thu Sales']+ history['Fri Sales']\n",
    "history['Total Qty'] =history['Sat Qty'] + history['Sun Qty'] + history['Mon Qty']+ history['Tue Qty']+ history['Wed Qty']+ history['Thu Qty']+ history['Fri Qty']\n",
    "df2019['Total Sales'] = df2019['Sat Sales'] + df2019['Sun Sales'] + df2019['Mon Sales']+ df2019['Tue Sales']+ df2019['Wed Sales']+ df2019['Thu Sales']+ df2019['Fri Sales']\n",
    "df2019['Total Qty'] =df2019['Sat Qty'] + df2019['Sun Qty'] + df2019['Mon Qty']+ df2019['Tue Qty']+ df2019['Wed Qty']+ df2019['Thu Qty']+ df2019['Fri Qty']\n",
    "history['Month'] = history['Week'].map(conv)\n",
    "df2019['Month'] = df2019['Week'].map(conv)\n",
    "df2019['Total Cost'] = df2019['Total Qty'] * df2019['Unit Cost']\n",
    "df2019['Gross Margin'] = (df2019['Total Sales'] - df2019['Total Cost']) / df2019['Total Sales']\n",
    "\n",
    "historyweek = history.pivot_table(index='Week',columns='Year',values='Total Qty',aggfunc=np.sum)\n",
    "df2019week = df2019.pivot_table(index='Week', columns='Year',values='Total Qty',aggfunc=np.sum)\n",
    "df2019week = df2019week.drop('2018',axis=1)\n",
    "totalweek = pd.concat([historyweek,df2019week],axis=1,sort=False).round()\n",
    "historyweek['14 Var LW'] = historyweek['2014'].pct_change()\n",
    "historyweek['15 Var LY'] = historyweek.pct_change(axis='columns')['2015']\n",
    "historyweek['15 Var LW'] = historyweek['2015'].pct_change()\n",
    "historyweek['16 Var LY'] = historyweek.pct_change(axis='columns')['2016']\n",
    "historyweek['16 Var LW'] = historyweek['2016'].pct_change()\n",
    "historyweek['17 Var LY'] = historyweek.pct_change(axis='columns')['2017']\n",
    "historyweek['17 Var LW'] = historyweek['2017'].pct_change()\n",
    "historyweek['18 Var LY'] = historyweek.pct_change(axis='columns')['2018']\n",
    "historyweek['18 Var LW'] = historyweek['2018'].pct_change()\n",
    "historyweek['19 Var LY'] = historyweek.pct_change(axis='columns')['2019']\n",
    "historyweek['19 Var LW'] = historyweek['2019'].pct_change()\n",
    "historyweek = historyweek.reindex(col13,axis=1)\n",
    "for x in col14:\n",
    "    historyweek[x] = historyweek[x].astype(float).map(\"{:.2%}\".format)\n",
    "\n",
    "\n",
    "historydaily = history.drop(['Sat Sales', 'Sun Sales', 'Mon Sales', 'Tue Sales',\n",
    "       'Wed Sales', 'Thu Sales', 'Fri Sales','Total Sales'],axis=1)\n",
    "df2019daily = df2019.drop(['Sat Sales', 'Sun Sales', 'Mon Sales', 'Tue Sales',\n",
    "       'Wed Sales', 'Thu Sales', 'Fri Sales','Total Sales'],axis=1)\n",
    "historydaily = historydaily.pivot_table(index=['Week','Year'],aggfunc= np.sum)\n",
    "df2019daily = df2019daily.pivot_table(index=['Week','Year'],aggfunc = np.sum)\n",
    "df2019daily = df2019daily.round()\n",
    "historydaily = historydaily.reindex(col, axis=1)\n",
    "df2019daily = df2019daily.reindex(col, axis=1)\n",
    "totaldaily = pd.concat([historydaily,df2019daily]).sort_index()\n",
    "totaldaily = pd.concat([historydaily,df2019daily]).sort_index()\n",
    "totaldaily['Sun %'] = (totaldaily['Sun Qty'] - totaldaily['Sat Qty']) / totaldaily['Sun Qty']\n",
    "totaldaily['Mon %'] = (totaldaily['Mon Qty'] - totaldaily['Sun Qty']) / totaldaily['Mon Qty']\n",
    "totaldaily['Tue %'] = (totaldaily['Tue Qty'] - totaldaily['Mon Qty']) / totaldaily['Tue Qty']\n",
    "totaldaily['Wed %'] = (totaldaily['Wed Qty'] - totaldaily['Tue Qty']) / totaldaily['Wed Qty']\n",
    "totaldaily['Thu %'] = (totaldaily['Thu Qty'] - totaldaily['Wed Qty']) / totaldaily['Thu Qty']\n",
    "totaldaily['Fri %'] = (totaldaily['Fri Qty'] - totaldaily['Thu Qty']) / totaldaily['Fri Qty']\n",
    "totaldaily['Sat %'] = (totaldaily['Sat Qty'] - totaldaily['Fri Qty']) / totaldaily['Sat Qty']\n",
    "totaldaily['Sun MV 4YR']= totaldaily['Sun %'].shift().rolling(4).mean()\n",
    "totaldaily['Mon MV 4YR']= totaldaily['Mon %'].shift().rolling(4).mean()\n",
    "totaldaily['Tue MV 4YR']= totaldaily['Tue %'].shift().rolling(4).mean()\n",
    "totaldaily['Wed MV 4YR']= totaldaily['Wed %'].shift().rolling(4).mean()\n",
    "totaldaily['Thu MV 4YR']= totaldaily['Thu %'].shift().rolling(4).mean()\n",
    "totaldaily['Fri MV 4YR']= totaldaily['Fri %'].shift().rolling(4).mean()\n",
    "totaldaily['Sat MV 4YR']= totaldaily['Sat %'].shift().rolling(4).mean()\n",
    "\n",
    "historymonth = history.pivot_table(index='Month',columns='Year',values='Total Qty',aggfunc=np.sum).reindex(['Feb','Mar','Apr','May','Jun','Jul','Aug','Sep','Oct','Nov','Dec','Jan'])\n",
    "df2019month = df2019.pivot_table(index='Month',columns='Year',values='Total Qty',aggfunc=np.sum).reindex(['Feb','Mar','Apr','May','Jun','Jul','Aug','Sep','Oct','Nov','Dec','Jan'])\n",
    "\n",
    "historymonth['14 Var LM'] = historymonth['2014'].pct_change()\n",
    "historymonth['15 Var LY'] = historymonth.pct_change(axis='columns')['2015']\n",
    "historymonth['15 Var LM'] = historymonth['2015'].pct_change()\n",
    "historymonth['16 Var LY'] = historymonth.pct_change(axis='columns')['2016']\n",
    "historymonth['16 Var LM'] = historymonth['2016'].pct_change()\n",
    "historymonth['17 Var LY'] = historymonth.pct_change(axis='columns')['2017']\n",
    "historymonth['17 Var LM'] = historymonth['2017'].pct_change()\n",
    "historymonth['18 Var LY'] = historymonth.pct_change(axis='columns')['2018']\n",
    "historymonth['18 Var LM'] = historymonth['2018'].pct_change()\n",
    "historymonth['19 Var LM'] = historymonth['2019'].pct_change()\n",
    "historymonth['19 Var LY'] = historymonth.pct_change(axis='columns')['2019']\n",
    "historymonth = historymonth.reindex(['2019', '19 Var LY', '19 Var LM','2018','18 Var LY', '18 Var LM','2017','17 Var LY', '17 Var LM','2016','16 Var LY', '16 Var LM','2015','15 Var LY','15 Var LM',\n",
    " '2014','14 Var LM'], axis=1)\n",
    "\n",
    "for x in col5:\n",
    "    historymonth[x] = historymonth[x].astype(float).map(\"{:.2%}\".format)\n",
    "\n",
    "daily = df2019.drop(['Sat Sales', 'Sun Sales', 'Mon Sales', 'Tue Sales',\n",
    "       'Wed Sales', 'Thu Sales', 'Fri Sales','Total Sales'],axis=1)\n",
    "daily = daily.pivot_table(index=['Week','Year'],aggfunc = np.sum).reindex(col,axis=1)\n",
    "daily.drop(daily[daily['Total Qty'] <10000 ].index, inplace=True)\n",
    "daily = daily.reindex(index= ['47.0','48.0','49.0','50.0','51.0', '52.0','01.0', '02.0', '03.0', '04.0', '05.0', '06.0', '07.0', '08.0', '09.0','10.0', '11.0', '12.0',\n",
    "                  '13.0', '14.0', '15.0', '16.0'],level='Week')\n",
    "daily['Sun %'] = (daily['Sun Qty'] - daily['Sat Qty']) / daily['Sun Qty']\n",
    "daily['Mon %'] = (daily['Mon Qty'] - daily['Sun Qty']) / daily['Mon Qty']\n",
    "daily['Tue %'] = (daily['Tue Qty'] - daily['Mon Qty']) / daily['Tue Qty']\n",
    "daily['Wed %'] = (daily['Wed Qty'] - daily['Tue Qty']) / daily['Wed Qty']\n",
    "daily['Thu %'] = (daily['Thu Qty'] - daily['Wed Qty']) / daily['Thu Qty']\n",
    "daily['Fri %'] = (daily['Fri Qty'] - daily['Thu Qty']) / daily['Fri Qty']\n",
    "daily['Sat %'] = (daily['Sat Qty'] - daily['Fri Qty']) / daily['Sat Qty']\n",
    "daily['Sun MV 4YR']= daily['Sun %'].shift().rolling(4).mean()\n",
    "daily['Mon MV 4YR']= daily['Mon %'].shift().rolling(4).mean()\n",
    "daily['Tue MV 4YR']= daily['Tue %'].shift().rolling(4).mean()\n",
    "daily['Wed MV 4YR']= daily['Wed %'].shift().rolling(4).mean()\n",
    "daily['Thu MV 4YR']= daily['Thu %'].shift().rolling(4).mean()\n",
    "daily['Fri MV 4YR']= daily['Fri %'].shift().rolling(4).mean()\n",
    "daily['Sat MV 4YR']= daily['Sat %'].shift().rolling(4).mean()\n",
    "col2 = ['Sat %', 'Sun %','Mon %','Tue %','Wed %','Thu %','Fri %','Sat MV 4YR','Sun MV 4YR','Mon MV 4YR','Tue MV 4YR','Wed MV 4YR','Thu MV 4YR','Fri MV 4YR']\n",
    "daily = daily.reindex(col, axis=1)\n",
    "for x in col2:\n",
    "    daily[x] = daily[x].astype(float).map(\"{:.2%}\".format)\n",
    "daily.round()\n",
    "\n",
    "col2 = ['Sat %', 'Sun %','Mon %','Tue %','Wed %','Thu %','Fri %','Sat MV 4YR','Sun MV 4YR','Mon MV 4YR','Tue MV 4YR','Wed MV 4YR','Thu MV 4YR','Fri MV 4YR']\n",
    "for x in col2:\n",
    "    historydaily[x] = historydaily[x].astype(float).map(\"{:.2%}\".format)\n",
    "    df2019daily[x] = df2019daily[x].astype(float).map(\"{:.2%}\".format)\n",
    "    totaldaily[x] = totaldaily[x].astype(float).map(\"{:.2%}\".format)\n",
    "\n",
    "department = df2019.pivot_table(index=['Department','Class'],values=['Total Sales','Total Cost','Net Ship Qty','POS Qty'],\n",
    "                               aggfunc={'Total Sales': np.sum, 'Total Cost': np.sum},fill_value=0)\n",
    "department['Gross Margin'] = (department['Total Sales'] - department['Total Cost']) / department['Total Sales']\n",
    "department = department.drop(['SS Seasonal Men','SS Seasonal Women','SS Seasonal Acc'], axis=0)\n",
    "department['Gross Margin'] = department['Gross Margin'].astype(float).map(\"{:.2%}\".format)\n",
    "department=department.round(2)\n",
    "\n",
    "filter1 = history[history['Year']=='2018']\n",
    "department2 = filter1.pivot_table(index='Department',values='Total Sales',\n",
    "                               aggfunc=np.sum)\n",
    "department2 = department2.drop('SS Seasonal Men', axis=0)\n",
    "\n",
    "sizedf = df2019.pivot_table(index=['Size Desc'], values=['Total Qty','Net Ship Qty'],aggfunc=np.sum).reindex(['00','0','1','2','4','6', '8', '10', '12'])\n",
    "sizedf['Sell-Th'] = sizedf['Total Qty'] / sizedf['Net Ship Qty']\n",
    "sizedf['Sell-Th'] = sizedf['Sell-Th'].astype(float).map(\"{:.2%}\".format)\n",
    "\n",
    "colordf = df2019[['Color Desc','Total Qty','Net Ship Qty']]\n",
    "colordf = colordf.pivot_table(index='Color Desc',values=['Total Qty','Net Ship Qty'],aggfunc=np.sum)\n",
    "colordf['Sell-Th'] = colordf['Total Qty'] / colordf['Net Ship Qty']\n",
    "colordf['Sell-Th'] = colordf['Sell-Th'].astype(float).map(\"{:.2%}\".format)"
   ]
  },
  {
   "cell_type": "markdown",
   "metadata": {
    "hideCode": false,
    "hidePrompt": true
   },
   "source": [
    "## Forecasting with Machine Learning"
   ]
  },
  {
   "cell_type": "markdown",
   "metadata": {},
   "source": [
    "### Daily Company Sales Data\n",
    "### Daily sales data from 2017 to 2018 are being used to train the machine to forecast sales in 2019. Forecasted sales data for January 2019 to May 2019 are compared to actual sales data, and there is slight discrepancy. Such discrepancy can be minimized by adding holiday schedule to the learning and forecasting process. Nevertheless, such discrepancy should not be taken at its face value. Per this retail company's direction for merchandise planning, rule of thumb sale-through goal is around 85%, which means there is an extra 15% of merchandise allocated at each store to cover the discrepancy."
   ]
  },
  {
   "cell_type": "code",
   "execution_count": null,
   "metadata": {
    "hideCode": true,
    "hidePrompt": true,
    "scrolled": false
   },
   "outputs": [],
   "source": [
    "df = pd.read_excel('Daily History2.xlsx',skiprows=20)\n",
    "df.drop(df[df['POS Qty'] == 0].index,inplace=True)\n",
    "df['Daily2']= pd.to_datetime(df['Daily'])\n",
    "df =df.set_index('Daily2')\n",
    "df = df.drop(['Daily','POS Sales'],axis=1)\n",
    "y = df['POS Qty'].resample('W').mean()\n",
    "y.plot(figsize=(15,6))"
   ]
  },
  {
   "cell_type": "code",
   "execution_count": null,
   "metadata": {
    "hideCode": true,
    "hidePrompt": true
   },
   "outputs": [],
   "source": [
    "from pylab import rcParams\n",
    "rcParams['figure.figsize'] = 18, 8\n",
    "import statsmodels.api as sm\n",
    "decomposition = sm.tsa.seasonal_decompose(y, model='additive')\n",
    "fig = decomposition.plot()\n",
    "plt.show()"
   ]
  },
  {
   "cell_type": "code",
   "execution_count": null,
   "metadata": {
    "hideCode": true,
    "hidePrompt": true
   },
   "outputs": [],
   "source": [
    "import itertools\n",
    "p = d = q = range(0, 2)\n",
    "pdq = list(itertools.product(p, d, q))\n",
    "seasonal_pdq = [(x[0], x[1], x[2], 12) for x in list(itertools.product(p, d, q))]\n",
    "print('Examples of parameter combinations for Seasonal ARIMA...')\n",
    "print('SARIMAX: {} x {}'.format(pdq[1], seasonal_pdq[1]))\n",
    "print('SARIMAX: {} x {}'.format(pdq[1], seasonal_pdq[2]))\n",
    "print('SARIMAX: {} x {}'.format(pdq[2], seasonal_pdq[3]))\n",
    "print('SARIMAX: {} x {}'.format(pdq[2], seasonal_pdq[4]))"
   ]
  },
  {
   "cell_type": "code",
   "execution_count": null,
   "metadata": {
    "hideCode": true,
    "hidePrompt": true
   },
   "outputs": [],
   "source": [
    "import warnings\n",
    "for param in pdq:\n",
    "    for param_seasonal in seasonal_pdq:\n",
    "        try:\n",
    "            mod = sm.tsa.statespace.SARIMAX(y,\n",
    "                                            order=param,\n",
    "                                            seasonal_order=param_seasonal,\n",
    "                                            enforce_stationarity=False,\n",
    "                                            enforce_invertibility=False)\n",
    "            results = mod.fit()\n",
    "            print('ARIMA{}x{}12 - AIC:{}'.format(param, param_seasonal, results.aic))\n",
    "        except:\n",
    "            continue"
   ]
  },
  {
   "cell_type": "code",
   "execution_count": null,
   "metadata": {
    "hideCode": true,
    "hidePrompt": true
   },
   "outputs": [],
   "source": [
    "mod = sm.tsa.statespace.SARIMAX(y,\n",
    "                                order=(1, 1, 1),\n",
    "                                seasonal_order=(1, 1, 1, 12),\n",
    "                                enforce_stationarity=False,\n",
    "                                enforce_invertibility=False)\n",
    "results = mod.fit()\n",
    "print(results.summary().tables[1])"
   ]
  },
  {
   "cell_type": "code",
   "execution_count": null,
   "metadata": {
    "hideCode": true,
    "hidePrompt": true
   },
   "outputs": [],
   "source": [
    "results.plot_diagnostics(figsize=(16, 8))\n",
    "plt.show()"
   ]
  },
  {
   "cell_type": "code",
   "execution_count": null,
   "metadata": {
    "hideCode": true,
    "hideOutput": true,
    "hidePrompt": true
   },
   "outputs": [],
   "source": [
    "y.count"
   ]
  },
  {
   "cell_type": "code",
   "execution_count": null,
   "metadata": {
    "hideCode": true,
    "hidePrompt": true
   },
   "outputs": [],
   "source": [
    "pred = results.get_prediction(start=92, end=150, dynamic=False)\n",
    "pred_ci = pred.conf_int()\n",
    "ax = y['2016':].plot(label='observed')\n",
    "pred.predicted_mean.plot(ax=ax, label='One-step ahead Forecast', alpha=.7, figsize=(20, 10))\n",
    "ax.fill_between(pred_ci.index,\n",
    "                pred_ci.iloc[:, 0],\n",
    "                pred_ci.iloc[:, 1], color='k', alpha=.2)\n",
    "ax.set_xlabel('Date')\n",
    "ax.set_ylabel('POS Qty')\n",
    "plt.legend()\n",
    "plt.grid()\n",
    "plt.title('Class Forecast')\n",
    "plt.show()"
   ]
  },
  {
   "cell_type": "code",
   "execution_count": null,
   "metadata": {
    "hideCode": true,
    "hidePrompt": true
   },
   "outputs": [],
   "source": [
    "y_forecasted = pred.predicted_mean\n",
    "y_truth = y[92:]\n",
    "mse = ((y_forecasted - y_truth) ** 2).mean()\n",
    "print('The Mean Squared Error of our forecasts is {}'.format(round(mse, 2)))"
   ]
  },
  {
   "cell_type": "code",
   "execution_count": null,
   "metadata": {
    "hideCode": true,
    "hidePrompt": true
   },
   "outputs": [],
   "source": [
    "print('The Root Mean Squared Error of our forecasts is {}'.format(round(np.sqrt(mse), 2)))"
   ]
  },
  {
   "cell_type": "code",
   "execution_count": null,
   "metadata": {
    "hideCode": true,
    "hidePrompt": true
   },
   "outputs": [],
   "source": [
    "pred_uc = results.get_forecast(steps=100)\n",
    "pred_ci = pred_uc.conf_int()\n",
    "ax = y.plot(label='observed', figsize=(14, 7))\n",
    "pred_uc.predicted_mean.plot(ax=ax, label='Forecast')\n",
    "ax.fill_between(pred_ci.index,\n",
    "                pred_ci.iloc[:, 0],\n",
    "                pred_ci.iloc[:, 1], color='k', alpha=.25)\n",
    "ax.set_xlabel('Date')\n",
    "ax.set_ylabel('POS Qty')\n",
    "plt.legend()\n",
    "plt.show()"
   ]
  }
 ],
 "metadata": {
  "celltoolbar": "Hide code",
  "kernelspec": {
   "display_name": "Python 3",
   "language": "python",
   "name": "python3"
  },
  "language_info": {
   "codemirror_mode": {
    "name": "ipython",
    "version": 3
   },
   "file_extension": ".py",
   "mimetype": "text/x-python",
   "name": "python",
   "nbconvert_exporter": "python",
   "pygments_lexer": "ipython3",
   "version": "3.7.1"
  }
 },
 "nbformat": 4,
 "nbformat_minor": 2
}
