{
 "cells": [
  {
   "cell_type": "code",
   "execution_count": 1,
   "metadata": {},
   "outputs": [],
   "source": [
    "import pandas as pd\n",
    "import numpy as np\n",
    "import matplotlib.pyplot as plt\n",
    "import seaborn as sns\n",
    "import datetime as dt\n",
    "%matplotlib inline\n"
   ]
  },
  {
   "cell_type": "code",
   "execution_count": 2,
   "metadata": {},
   "outputs": [],
   "source": [
    "df = pd.read_excel(r'C:\\Users\\gmjj0\\Downloads\\2018 ss cad ranking.xlsx', skiprows=40,parse_dates=['WM Week'])"
   ]
  },
  {
   "cell_type": "code",
   "execution_count": 51,
   "metadata": {},
   "outputs": [],
   "source": [
    "conv = {201747:'2017-11-24', 201748:'2017-12-01', 201749:'2017-12-08', 201750:'2017-12-15',\n",
    "               201751:'2017-12-22', 201752:'2017-12-29', 201801:'2018-01-05', 201802:'2018-01-12',\n",
    "               201803:'2018-01-19', 201804:'2018-01-26', 201805:'2018-02-02', 201806:'2018-02-09',\n",
    "               201807:'2018-02-16', 201808:'2018-02-23', 201809:'2018-03-02', 201810:'2018-03-09',\n",
    "               201811:'2018-03-16', 201812:'2018-03-23', 201813:'2018-03-30', 201814:'2018-04-06',\n",
    "               201815:'2018-04-13', 201816:'2018-04-20', 201817:'2018-04-27', 201818:'2018-05-04',\n",
    "               201819:'2018-05-11', 201820:'2018-05-18', 201821:'2018-05-25', 201822:'2018-06-01',\n",
    "               201823:'2018-06-08'}\n",
    "df['WM Week'] = df['WM Week'].map(conv)\n",
    "df['WM Week'] = pd.to_datetime(df['WM Week'])\n",
    "df['WM Week'] = df['WM Week'].apply(lambda x: dt.datetime.strftime(x, '%W'))"
   ]
  },
  {
   "cell_type": "code",
   "execution_count": 127,
   "metadata": {},
   "outputs": [
    {
     "data": {
      "text/plain": [
       "array([5458, 5459, 5460, 5461, 5468, 5469, 6024, 6670, 6671, 6691],\n",
       "      dtype=int64)"
      ]
     },
     "execution_count": 127,
     "metadata": {},
     "output_type": "execute_result"
    }
   ],
   "source": [
    "dates = pd.date_range('2017/11/23', periods=29,freq='W-FRI')\n",
    "ssdates = dates.to_series().apply(lambda x: dt.datetime.strftime(x, '%W'))\n",
    "ssdates = dates.strftime('%W')\n",
    "ssdates\n",
    "df['Fineline Number'].unique()"
   ]
  },
  {
   "cell_type": "markdown",
   "metadata": {},
   "source": [
    "## Pivot_Table_Subtotal"
   ]
  },
  {
   "cell_type": "code",
   "execution_count": 110,
   "metadata": {},
   "outputs": [],
   "source": [
    "table = df.pivot_table(index=['WM Week','Fineline Number','Prime Item Desc','Color Desc'],values=['POS Qty'],aggfunc=np.sum)\n",
    "out = pd.concat([d.append(d.sum().rename((k,'','','Subtotal'))) for k, d in table.groupby(['WM Week','Fineline Number','Prime Item Desc'])]).append(adf.sum().rename(('Grand','','','Total')))\n",
    "out.index=pd.MultiIndex.from_tuples(out.index)"
   ]
  },
  {
   "cell_type": "markdown",
   "metadata": {},
   "source": [
    "## isna & is notna"
   ]
  },
  {
   "cell_type": "code",
   "execution_count": 113,
   "metadata": {},
   "outputs": [
    {
     "data": {
      "text/plain": [
       "WM Week            7112\n",
       "Fineline Number    7112\n",
       "Prime Item Desc    7112\n",
       "Color Desc         7112\n",
       "POS Qty            7112\n",
       "POS Sales          7112\n",
       "Net Ship Qty       7112\n",
       "dtype: int64"
      ]
     },
     "execution_count": 113,
     "metadata": {},
     "output_type": "execute_result"
    }
   ],
   "source": [
    "df.isna().sum()\n",
    "df.notna().sum()"
   ]
  },
  {
   "cell_type": "markdown",
   "metadata": {},
   "source": [
    "## Drop Rows or Columns"
   ]
  },
  {
   "cell_type": "code",
   "execution_count": 114,
   "metadata": {},
   "outputs": [
    {
     "data": {
      "text/html": [
       "<div>\n",
       "<style scoped>\n",
       "    .dataframe tbody tr th:only-of-type {\n",
       "        vertical-align: middle;\n",
       "    }\n",
       "\n",
       "    .dataframe tbody tr th {\n",
       "        vertical-align: top;\n",
       "    }\n",
       "\n",
       "    .dataframe thead th {\n",
       "        text-align: right;\n",
       "    }\n",
       "</style>\n",
       "<table border=\"1\" class=\"dataframe\">\n",
       "  <thead>\n",
       "    <tr style=\"text-align: right;\">\n",
       "      <th></th>\n",
       "      <th>WM Week</th>\n",
       "      <th>Fineline Number</th>\n",
       "      <th>Prime Item Desc</th>\n",
       "      <th>Color Desc</th>\n",
       "      <th>POS Qty</th>\n",
       "      <th>POS Sales</th>\n",
       "      <th>Net Ship Qty</th>\n",
       "    </tr>\n",
       "  </thead>\n",
       "  <tbody>\n",
       "    <tr>\n",
       "      <th>2</th>\n",
       "      <td>47</td>\n",
       "      <td>5458</td>\n",
       "      <td>GR BG CAMI GRPH CRPR</td>\n",
       "      <td>GUMBAL</td>\n",
       "      <td>0</td>\n",
       "      <td>0.0</td>\n",
       "      <td>0</td>\n",
       "    </tr>\n",
       "    <tr>\n",
       "      <th>3</th>\n",
       "      <td>47</td>\n",
       "      <td>5458</td>\n",
       "      <td>GR BG CAMI GRPH CRPR</td>\n",
       "      <td>LILBUD</td>\n",
       "      <td>0</td>\n",
       "      <td>0.0</td>\n",
       "      <td>0</td>\n",
       "    </tr>\n",
       "    <tr>\n",
       "      <th>4</th>\n",
       "      <td>47</td>\n",
       "      <td>5458</td>\n",
       "      <td>GR BG CAMI GRPH CRPR</td>\n",
       "      <td>MISMNT</td>\n",
       "      <td>0</td>\n",
       "      <td>0.0</td>\n",
       "      <td>0</td>\n",
       "    </tr>\n",
       "    <tr>\n",
       "      <th>5</th>\n",
       "      <td>47</td>\n",
       "      <td>5458</td>\n",
       "      <td>GR BG CAMI GRPH CRPR</td>\n",
       "      <td>REDRVR</td>\n",
       "      <td>0</td>\n",
       "      <td>0.0</td>\n",
       "      <td>0</td>\n",
       "    </tr>\n",
       "    <tr>\n",
       "      <th>6</th>\n",
       "      <td>47</td>\n",
       "      <td>5458</td>\n",
       "      <td>GR BG CAMI GRPH CRPR</td>\n",
       "      <td>SNYELW</td>\n",
       "      <td>0</td>\n",
       "      <td>0.0</td>\n",
       "      <td>0</td>\n",
       "    </tr>\n",
       "  </tbody>\n",
       "</table>\n",
       "</div>"
      ],
      "text/plain": [
       "  WM Week  Fineline Number       Prime Item Desc Color Desc  POS Qty  \\\n",
       "2      47             5458  GR BG CAMI GRPH CRPR     GUMBAL        0   \n",
       "3      47             5458  GR BG CAMI GRPH CRPR     LILBUD        0   \n",
       "4      47             5458  GR BG CAMI GRPH CRPR     MISMNT        0   \n",
       "5      47             5458  GR BG CAMI GRPH CRPR     REDRVR        0   \n",
       "6      47             5458  GR BG CAMI GRPH CRPR     SNYELW        0   \n",
       "\n",
       "   POS Sales  Net Ship Qty  \n",
       "2        0.0             0  \n",
       "3        0.0             0  \n",
       "4        0.0             0  \n",
       "5        0.0             0  \n",
       "6        0.0             0  "
      ]
     },
     "execution_count": 114,
     "metadata": {},
     "output_type": "execute_result"
    }
   ],
   "source": [
    "df.drop([0,1], axis =0).head()"
   ]
  },
  {
   "cell_type": "code",
   "execution_count": 115,
   "metadata": {},
   "outputs": [
    {
     "data": {
      "text/html": [
       "<div>\n",
       "<style scoped>\n",
       "    .dataframe tbody tr th:only-of-type {\n",
       "        vertical-align: middle;\n",
       "    }\n",
       "\n",
       "    .dataframe tbody tr th {\n",
       "        vertical-align: top;\n",
       "    }\n",
       "\n",
       "    .dataframe thead th {\n",
       "        text-align: right;\n",
       "    }\n",
       "</style>\n",
       "<table border=\"1\" class=\"dataframe\">\n",
       "  <thead>\n",
       "    <tr style=\"text-align: right;\">\n",
       "      <th></th>\n",
       "      <th>WM Week</th>\n",
       "      <th>Fineline Number</th>\n",
       "      <th>Prime Item Desc</th>\n",
       "      <th>Color Desc</th>\n",
       "      <th>POS Qty</th>\n",
       "      <th>POS Sales</th>\n",
       "      <th>Net Ship Qty</th>\n",
       "    </tr>\n",
       "  </thead>\n",
       "  <tbody>\n",
       "    <tr>\n",
       "      <th>2</th>\n",
       "      <td>47</td>\n",
       "      <td>5458</td>\n",
       "      <td>GR BG CAMI GRPH CRPR</td>\n",
       "      <td>GUMBAL</td>\n",
       "      <td>0</td>\n",
       "      <td>0.0</td>\n",
       "      <td>0</td>\n",
       "    </tr>\n",
       "    <tr>\n",
       "      <th>3</th>\n",
       "      <td>47</td>\n",
       "      <td>5458</td>\n",
       "      <td>GR BG CAMI GRPH CRPR</td>\n",
       "      <td>LILBUD</td>\n",
       "      <td>0</td>\n",
       "      <td>0.0</td>\n",
       "      <td>0</td>\n",
       "    </tr>\n",
       "    <tr>\n",
       "      <th>4</th>\n",
       "      <td>47</td>\n",
       "      <td>5458</td>\n",
       "      <td>GR BG CAMI GRPH CRPR</td>\n",
       "      <td>MISMNT</td>\n",
       "      <td>0</td>\n",
       "      <td>0.0</td>\n",
       "      <td>0</td>\n",
       "    </tr>\n",
       "    <tr>\n",
       "      <th>5</th>\n",
       "      <td>47</td>\n",
       "      <td>5458</td>\n",
       "      <td>GR BG CAMI GRPH CRPR</td>\n",
       "      <td>REDRVR</td>\n",
       "      <td>0</td>\n",
       "      <td>0.0</td>\n",
       "      <td>0</td>\n",
       "    </tr>\n",
       "    <tr>\n",
       "      <th>6</th>\n",
       "      <td>47</td>\n",
       "      <td>5458</td>\n",
       "      <td>GR BG CAMI GRPH CRPR</td>\n",
       "      <td>SNYELW</td>\n",
       "      <td>0</td>\n",
       "      <td>0.0</td>\n",
       "      <td>0</td>\n",
       "    </tr>\n",
       "  </tbody>\n",
       "</table>\n",
       "</div>"
      ],
      "text/plain": [
       "  WM Week  Fineline Number       Prime Item Desc Color Desc  POS Qty  \\\n",
       "2      47             5458  GR BG CAMI GRPH CRPR     GUMBAL        0   \n",
       "3      47             5458  GR BG CAMI GRPH CRPR     LILBUD        0   \n",
       "4      47             5458  GR BG CAMI GRPH CRPR     MISMNT        0   \n",
       "5      47             5458  GR BG CAMI GRPH CRPR     REDRVR        0   \n",
       "6      47             5458  GR BG CAMI GRPH CRPR     SNYELW        0   \n",
       "\n",
       "   POS Sales  Net Ship Qty  \n",
       "2        0.0             0  \n",
       "3        0.0             0  \n",
       "4        0.0             0  \n",
       "5        0.0             0  \n",
       "6        0.0             0  "
      ]
     },
     "execution_count": 115,
     "metadata": {},
     "output_type": "execute_result"
    }
   ],
   "source": [
    "df.drop([0,1], axis='index').head()"
   ]
  },
  {
   "cell_type": "code",
   "execution_count": 121,
   "metadata": {},
   "outputs": [
    {
     "data": {
      "text/html": [
       "<div>\n",
       "<style scoped>\n",
       "    .dataframe tbody tr th:only-of-type {\n",
       "        vertical-align: middle;\n",
       "    }\n",
       "\n",
       "    .dataframe tbody tr th {\n",
       "        vertical-align: top;\n",
       "    }\n",
       "\n",
       "    .dataframe thead th {\n",
       "        text-align: right;\n",
       "    }\n",
       "</style>\n",
       "<table border=\"1\" class=\"dataframe\">\n",
       "  <thead>\n",
       "    <tr style=\"text-align: right;\">\n",
       "      <th></th>\n",
       "      <th>WM Week</th>\n",
       "      <th>Fineline Number</th>\n",
       "      <th>Prime Item Desc</th>\n",
       "      <th>Color Desc</th>\n",
       "      <th>POS Qty</th>\n",
       "      <th>POS Sales</th>\n",
       "      <th>Net Ship Qty</th>\n",
       "    </tr>\n",
       "  </thead>\n",
       "  <tbody>\n",
       "    <tr>\n",
       "      <th>3</th>\n",
       "      <td>47</td>\n",
       "      <td>5458</td>\n",
       "      <td>GR BG CAMI GRPH CRPR</td>\n",
       "      <td>LILBUD</td>\n",
       "      <td>0</td>\n",
       "      <td>0.0</td>\n",
       "      <td>0</td>\n",
       "    </tr>\n",
       "    <tr>\n",
       "      <th>7</th>\n",
       "      <td>47</td>\n",
       "      <td>5458</td>\n",
       "      <td>GR BG CAMI PRT CRPR</td>\n",
       "      <td>ARCWH2</td>\n",
       "      <td>0</td>\n",
       "      <td>0.0</td>\n",
       "      <td>0</td>\n",
       "    </tr>\n",
       "    <tr>\n",
       "      <th>8</th>\n",
       "      <td>47</td>\n",
       "      <td>5458</td>\n",
       "      <td>GR BG CAMI PRT CRPR</td>\n",
       "      <td>ARCWHT</td>\n",
       "      <td>0</td>\n",
       "      <td>0.0</td>\n",
       "      <td>0</td>\n",
       "    </tr>\n",
       "    <tr>\n",
       "      <th>9</th>\n",
       "      <td>47</td>\n",
       "      <td>5458</td>\n",
       "      <td>GR BG CAMI PRT CRPR</td>\n",
       "      <td>LILBUD</td>\n",
       "      <td>0</td>\n",
       "      <td>0.0</td>\n",
       "      <td>0</td>\n",
       "    </tr>\n",
       "    <tr>\n",
       "      <th>10</th>\n",
       "      <td>47</td>\n",
       "      <td>5458</td>\n",
       "      <td>GR BG CAMI PRT CRPR</td>\n",
       "      <td>NVYFOG</td>\n",
       "      <td>0</td>\n",
       "      <td>0.0</td>\n",
       "      <td>0</td>\n",
       "    </tr>\n",
       "  </tbody>\n",
       "</table>\n",
       "</div>"
      ],
      "text/plain": [
       "   WM Week  Fineline Number       Prime Item Desc Color Desc  POS Qty  \\\n",
       "3       47             5458  GR BG CAMI GRPH CRPR     LILBUD        0   \n",
       "7       47             5458   GR BG CAMI PRT CRPR     ARCWH2        0   \n",
       "8       47             5458   GR BG CAMI PRT CRPR     ARCWHT        0   \n",
       "9       47             5458   GR BG CAMI PRT CRPR     LILBUD        0   \n",
       "10      47             5458   GR BG CAMI PRT CRPR     NVYFOG        0   \n",
       "\n",
       "    POS Sales  Net Ship Qty  \n",
       "3         0.0             0  \n",
       "7         0.0             0  \n",
       "8         0.0             0  \n",
       "9         0.0             0  \n",
       "10        0.0             0  "
      ]
     },
     "execution_count": 121,
     "metadata": {},
     "output_type": "execute_result"
    }
   ],
   "source": [
    "df.drop(index=[4,5,6]).head()"
   ]
  },
  {
   "cell_type": "code",
   "execution_count": 125,
   "metadata": {},
   "outputs": [
    {
     "data": {
      "text/html": [
       "<div>\n",
       "<style scoped>\n",
       "    .dataframe tbody tr th:only-of-type {\n",
       "        vertical-align: middle;\n",
       "    }\n",
       "\n",
       "    .dataframe tbody tr th {\n",
       "        vertical-align: top;\n",
       "    }\n",
       "\n",
       "    .dataframe thead th {\n",
       "        text-align: right;\n",
       "    }\n",
       "</style>\n",
       "<table border=\"1\" class=\"dataframe\">\n",
       "  <thead>\n",
       "    <tr style=\"text-align: right;\">\n",
       "      <th></th>\n",
       "      <th>WM Week</th>\n",
       "      <th>Fineline Number</th>\n",
       "      <th>Prime Item Desc</th>\n",
       "      <th>Color Desc</th>\n",
       "      <th>Net Ship Qty</th>\n",
       "    </tr>\n",
       "  </thead>\n",
       "  <tbody>\n",
       "    <tr>\n",
       "      <th>3</th>\n",
       "      <td>47</td>\n",
       "      <td>5458</td>\n",
       "      <td>GR BG CAMI GRPH CRPR</td>\n",
       "      <td>LILBUD</td>\n",
       "      <td>0</td>\n",
       "    </tr>\n",
       "    <tr>\n",
       "      <th>4</th>\n",
       "      <td>47</td>\n",
       "      <td>5458</td>\n",
       "      <td>GR BG CAMI GRPH CRPR</td>\n",
       "      <td>MISMNT</td>\n",
       "      <td>0</td>\n",
       "    </tr>\n",
       "    <tr>\n",
       "      <th>5</th>\n",
       "      <td>47</td>\n",
       "      <td>5458</td>\n",
       "      <td>GR BG CAMI GRPH CRPR</td>\n",
       "      <td>REDRVR</td>\n",
       "      <td>0</td>\n",
       "    </tr>\n",
       "    <tr>\n",
       "      <th>6</th>\n",
       "      <td>47</td>\n",
       "      <td>5458</td>\n",
       "      <td>GR BG CAMI GRPH CRPR</td>\n",
       "      <td>SNYELW</td>\n",
       "      <td>0</td>\n",
       "    </tr>\n",
       "    <tr>\n",
       "      <th>7</th>\n",
       "      <td>47</td>\n",
       "      <td>5458</td>\n",
       "      <td>GR BG CAMI PRT CRPR</td>\n",
       "      <td>ARCWH2</td>\n",
       "      <td>0</td>\n",
       "    </tr>\n",
       "  </tbody>\n",
       "</table>\n",
       "</div>"
      ],
      "text/plain": [
       "  WM Week  Fineline Number       Prime Item Desc Color Desc  Net Ship Qty\n",
       "3      47             5458  GR BG CAMI GRPH CRPR     LILBUD             0\n",
       "4      47             5458  GR BG CAMI GRPH CRPR     MISMNT             0\n",
       "5      47             5458  GR BG CAMI GRPH CRPR     REDRVR             0\n",
       "6      47             5458  GR BG CAMI GRPH CRPR     SNYELW             0\n",
       "7      47             5458   GR BG CAMI PRT CRPR     ARCWH2             0"
      ]
     },
     "execution_count": 125,
     "metadata": {},
     "output_type": "execute_result"
    }
   ],
   "source": [
    "df.drop(columns=['POS Qty','POS Sales']).head()"
   ]
  },
  {
   "cell_type": "markdown",
   "metadata": {},
   "source": [
    "## Rename and Reindex"
   ]
  },
  {
   "cell_type": "code",
   "execution_count": 144,
   "metadata": {},
   "outputs": [
    {
     "data": {
      "text/plain": [
       "WM Week              int64\n",
       "Fineline Number      int64\n",
       "Prime Item Desc     object\n",
       "Color Desc          object\n",
       "POS Qty              int64\n",
       "POS Sales          float64\n",
       "Net Ship Qty         int64\n",
       "dtype: object"
      ]
     },
     "execution_count": 144,
     "metadata": {},
     "output_type": "execute_result"
    }
   ],
   "source": [
    "df.rename(columns={'WM Week':' WM_Week','Fineline Number':'Fineline_Number'}).head()"
   ]
  },
  {
   "cell_type": "markdown",
   "metadata": {},
   "source": [
    "## Ordered Categories"
   ]
  },
  {
   "cell_type": "code",
   "execution_count": 149,
   "metadata": {},
   "outputs": [
    {
     "data": {
      "text/plain": [
       "WM Week               int64\n",
       "Fineline Number       int64\n",
       "Prime Item Desc      object\n",
       "Color Desc           object\n",
       "POS Qty               int64\n",
       "POS Sales           float64\n",
       "Net Ship Qty          int64\n",
       "test               category\n",
       "dtype: object"
      ]
     },
     "execution_count": 149,
     "metadata": {},
     "output_type": "execute_result"
    }
   ],
   "source": [
    "from pandas.api.types import CategoricalDtype\n",
    "fineline = CategoricalDtype([5458, 5459, 5460, 5461, 5468, 5469, 6024, 6670, 6671, 6691])\n",
    "df['test'] = df['Fineline Number'].astype(fineline)\n",
    "df.head()\n",
    "df.dtypes"
   ]
  },
  {
   "cell_type": "markdown",
   "metadata": {},
   "source": [
    "## Multiindex"
   ]
  },
  {
   "cell_type": "code",
   "execution_count": 163,
   "metadata": {},
   "outputs": [],
   "source": [
    "df = df.pivot_table(index=['WM Week','Fineline Number','Prime Item Desc','Color Desc'],values='POS Qty',aggfunc=np.sum)\n",
    "a = df.loc[([201747,201748],[5459,6670]),:]\n",
    "b = df.loc[(slice(None),[5459,6670]),:]"
   ]
  },
  {
   "cell_type": "markdown",
   "metadata": {},
   "source": [
    "## drop & dropna"
   ]
  },
  {
   "cell_type": "code",
   "execution_count": 180,
   "metadata": {},
   "outputs": [
    {
     "data": {
      "text/html": [
       "<div>\n",
       "<style scoped>\n",
       "    .dataframe tbody tr th:only-of-type {\n",
       "        vertical-align: middle;\n",
       "    }\n",
       "\n",
       "    .dataframe tbody tr th {\n",
       "        vertical-align: top;\n",
       "    }\n",
       "\n",
       "    .dataframe thead th {\n",
       "        text-align: right;\n",
       "    }\n",
       "</style>\n",
       "<table border=\"1\" class=\"dataframe\">\n",
       "  <thead>\n",
       "    <tr style=\"text-align: right;\">\n",
       "      <th></th>\n",
       "      <th>WM Week</th>\n",
       "      <th>Fineline Number</th>\n",
       "      <th>Prime Item Desc</th>\n",
       "      <th>Color Desc</th>\n",
       "      <th>POS Sales</th>\n",
       "      <th>Net Ship Qty</th>\n",
       "    </tr>\n",
       "  </thead>\n",
       "  <tbody>\n",
       "    <tr>\n",
       "      <th>0</th>\n",
       "      <td>201747</td>\n",
       "      <td>5458</td>\n",
       "      <td>GR BG CAMI GRPH CRPR</td>\n",
       "      <td>ALHCRL</td>\n",
       "      <td>0.0</td>\n",
       "      <td>0</td>\n",
       "    </tr>\n",
       "    <tr>\n",
       "      <th>1</th>\n",
       "      <td>201747</td>\n",
       "      <td>5458</td>\n",
       "      <td>GR BG CAMI GRPH CRPR</td>\n",
       "      <td>ARCWHT</td>\n",
       "      <td>0.0</td>\n",
       "      <td>0</td>\n",
       "    </tr>\n",
       "    <tr>\n",
       "      <th>2</th>\n",
       "      <td>201747</td>\n",
       "      <td>5458</td>\n",
       "      <td>GR BG CAMI GRPH CRPR</td>\n",
       "      <td>GUMBAL</td>\n",
       "      <td>0.0</td>\n",
       "      <td>0</td>\n",
       "    </tr>\n",
       "    <tr>\n",
       "      <th>3</th>\n",
       "      <td>201747</td>\n",
       "      <td>5458</td>\n",
       "      <td>GR BG CAMI GRPH CRPR</td>\n",
       "      <td>LILBUD</td>\n",
       "      <td>0.0</td>\n",
       "      <td>0</td>\n",
       "    </tr>\n",
       "    <tr>\n",
       "      <th>4</th>\n",
       "      <td>201747</td>\n",
       "      <td>5458</td>\n",
       "      <td>GR BG CAMI GRPH CRPR</td>\n",
       "      <td>MISMNT</td>\n",
       "      <td>0.0</td>\n",
       "      <td>0</td>\n",
       "    </tr>\n",
       "  </tbody>\n",
       "</table>\n",
       "</div>"
      ],
      "text/plain": [
       "   WM Week  Fineline Number       Prime Item Desc Color Desc  POS Sales  \\\n",
       "0   201747             5458  GR BG CAMI GRPH CRPR     ALHCRL        0.0   \n",
       "1   201747             5458  GR BG CAMI GRPH CRPR     ARCWHT        0.0   \n",
       "2   201747             5458  GR BG CAMI GRPH CRPR     GUMBAL        0.0   \n",
       "3   201747             5458  GR BG CAMI GRPH CRPR     LILBUD        0.0   \n",
       "4   201747             5458  GR BG CAMI GRPH CRPR     MISMNT        0.0   \n",
       "\n",
       "   Net Ship Qty  \n",
       "0             0  \n",
       "1             0  \n",
       "2             0  \n",
       "3             0  \n",
       "4             0  "
      ]
     },
     "execution_count": 180,
     "metadata": {},
     "output_type": "execute_result"
    }
   ],
   "source": [
    "ddf = df.copy()\n",
    "ddf.drop('POS Qty', axis='columns', inplace=True)\n",
    "#ddf.dropna(axis='Net Ship Qty',how='all')\n",
    "ddf.head()"
   ]
  },
  {
   "cell_type": "markdown",
   "metadata": {},
   "source": [
    "## Filter and Value_Counts"
   ]
  },
  {
   "cell_type": "code",
   "execution_count": 183,
   "metadata": {},
   "outputs": [
    {
     "data": {
      "text/plain": [
       "ARCWHT    0.208333\n",
       "OATHTR    0.125000\n",
       "SORLIM    0.125000\n",
       "MDGYHR    0.083333\n",
       "REDRVR    0.083333\n",
       "YELBIK    0.083333\n",
       "BLTILE    0.083333\n",
       "HVNTUR    0.083333\n",
       "LTGYHR    0.083333\n",
       "ORGSMH    0.041667\n",
       "Name: Color Desc, dtype: float64"
      ]
     },
     "execution_count": 183,
     "metadata": {},
     "output_type": "execute_result"
    }
   ],
   "source": [
    "df[df['Fineline Number']== 6670]['Color Desc'].value_counts(normalize=True)"
   ]
  },
  {
   "cell_type": "code",
   "execution_count": 244,
   "metadata": {},
   "outputs": [
    {
     "data": {
      "text/plain": [
       "Color Desc\n",
       "18M        196.636364\n",
       "ALHCRL    3923.928571\n",
       "ARCWH2    2261.702381\n",
       "ARCWHT    3675.685615\n",
       "BAJBLU    3992.321429\n",
       "BLKSOT    5075.147321\n",
       "BLTILE    3903.964286\n",
       "BLTLHR    2539.607143\n",
       "BLUMRP    3928.015306\n",
       "BRNTOV    3936.000000\n",
       "CHMBRY    5612.773810\n",
       "CHOCHP    2995.107143\n",
       "DKINDG    8682.178571\n",
       "DSTCAM    3956.285714\n",
       "GRBYNY    4184.864286\n",
       "GRNCMO    4576.119048\n",
       "GUMBAL    3426.435714\n",
       "HVNTUR    2811.468750\n",
       "INDDEN    6567.821429\n",
       "LILBUD    3034.377820\n",
       "LTGYHR    3813.892857\n",
       "MDGYHR    4324.791667\n",
       "MEDDEN    7270.785714\n",
       "MGRHTR    4996.821429\n",
       "MISMNT    3865.381579\n",
       "MULTI        0.083333\n",
       "NVYFOG    4164.446429\n",
       "OATHTR    3610.753968\n",
       "ORGSMH    2771.578571\n",
       "PLMDSR    6318.178571\n",
       "PSRPNK    3344.123377\n",
       "REDRVR    3850.892857\n",
       "RNBOW     3431.328571\n",
       "SIDWLK    4093.321429\n",
       "SNYELW    3085.035714\n",
       "SORLIM    3226.714286\n",
       "TRPAXL    4494.035714\n",
       "YELBIK    3133.071429\n",
       "dtype: float64"
      ]
     },
     "execution_count": 244,
     "metadata": {},
     "output_type": "execute_result"
    }
   ],
   "source": [
    "a = df[df['Color Desc']== 'ARCWHT']['Fineline Number'].value_counts(normalize=True)\n",
    "b = df.groupby('Color Desc')['Fineline Number'].value_counts(normalize=True)\n",
    "c = df.groupby(['Color Desc','Fineline Number'])['POS Qty'].sum() / df.groupby(['Color Desc'])['POS Qty'].sum()\n",
    "d = df.groupby('Fineline Number')['Color Desc'].value_counts(normalize=True).loc[:,'ARCWHT']\n",
    "e = df.groupby(['Color Desc','Fineline Number'])['POS Qty'].mean()\n",
    "f = (df.groupby(['Color Desc'])['POS Qty'].sum() / df.groupby(['Color Desc'])['Prime Item Desc'].count())\n",
    "f"
   ]
  },
  {
   "cell_type": "code",
   "execution_count": 9,
   "metadata": {},
   "outputs": [
    {
     "data": {
      "text/plain": [
       "Timestamp('2011-01-07 23:59:59.999999999')"
      ]
     },
     "execution_count": 9,
     "metadata": {},
     "output_type": "execute_result"
    }
   ],
   "source": [
    "m = pd.Period('2011-1', freq='W-FRI')\n",
    "m.end_time"
   ]
  },
  {
   "cell_type": "code",
   "execution_count": 16,
   "metadata": {},
   "outputs": [
    {
     "data": {
      "text/plain": [
       "DatetimeIndex(['2011-01-07', '2011-01-14', '2011-01-21', '2011-01-28',\n",
       "               '2011-02-04', '2011-02-11', '2011-02-18', '2011-02-25',\n",
       "               '2011-03-04', '2011-03-11',\n",
       "               ...\n",
       "               '2019-02-22', '2019-03-01', '2019-03-08', '2019-03-15',\n",
       "               '2019-03-22', '2019-03-29', '2019-04-05', '2019-04-12',\n",
       "               '2019-04-19', '2019-04-26'],\n",
       "              dtype='datetime64[ns]', length=434, freq='W-FRI')"
      ]
     },
     "execution_count": 16,
     "metadata": {},
     "output_type": "execute_result"
    }
   ],
   "source": [
    "m = pd.date_range('2011-01', periods=434,freq='W-FRI')\n",
    "m"
   ]
  },
  {
   "cell_type": "code",
   "execution_count": null,
   "metadata": {},
   "outputs": [],
   "source": []
  }
 ],
 "metadata": {
  "kernelspec": {
   "display_name": "Python 3",
   "language": "python",
   "name": "python3"
  },
  "language_info": {
   "codemirror_mode": {
    "name": "ipython",
    "version": 3
   },
   "file_extension": ".py",
   "mimetype": "text/x-python",
   "name": "python",
   "nbconvert_exporter": "python",
   "pygments_lexer": "ipython3",
   "version": "3.7.1"
  }
 },
 "nbformat": 4,
 "nbformat_minor": 2
}
